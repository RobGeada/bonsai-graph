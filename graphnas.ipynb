{
 "cells": [
  {
   "cell_type": "code",
   "execution_count": 1,
   "metadata": {},
   "outputs": [
    {
     "name": "stderr",
     "output_type": "stream",
     "text": [
      "Using backend: pytorch\n"
     ]
    }
   ],
   "source": [
    "from bonsai_graph.manager import *\n",
    "from bonsai_graph.ops import *\n",
    "from bonsai_graph.helpers import show_time\n",
    "import time\n",
    "import numpy as np\n",
    "import random\n",
    "\n",
    "%load_ext autoreload\n",
    "%autoreload 2"
   ]
  },
  {
   "cell_type": "code",
   "execution_count": 2,
   "metadata": {},
   "outputs": [
    {
     "name": "stdout",
     "output_type": "stream",
     "text": [
      "3\n"
     ]
    }
   ],
   "source": [
    "kwargs = {\n",
    "    'dataset':'pubmed',\n",
    "    'head_num':2,\n",
    "    'num_layers':2,\n",
    "    'prune':True,\n",
    "    'lr':.005,\n",
    "    'epochs':64,\n",
    "    'supervised':False,\n",
    "}\n",
    "\n",
    "manager = CitationGNNManager(kwargs)\n",
    "manager.update_ops()"
   ]
  },
  {
   "cell_type": "code",
   "execution_count": null,
   "metadata": {
    "scrolled": true
   },
   "outputs": [
    {
     "name": "stdout",
     "output_type": "stream",
     "text": [
      "0:    7.83GiB\n",
      "1:    9.53GiB\n",
      "Epoch 00001 | Loss (L: 156.4433, C: 0.1397) | Time(s) 40.1638 | comp 0.23 | acc 0.3333 | val_acc 0.4120 | test_acc 0.4490\n",
      "Epoch 00002 | Loss (L: 1.2131, C: 0.0339) | Time(s) 41.3824 | comp 0.23 | acc 0.4167 | val_acc 0.4600 | test_acc 0.4480\n",
      "Epoch 00003 | Loss (L: 1.3203, C: 0.0350) | Time(s) 41.8327 | comp 0.23 | acc 0.4500 | val_acc 0.4800 | test_acc 0.4520\n",
      "Epoch 00004 | Loss (L: 1.2323, C: 0.0350) | Time(s) 42.2900 | comp 0.23 | acc 0.4833 | val_acc 0.4920 | test_acc 0.4600\n",
      "Epoch 00005 | Loss (L: 1.1430, C: 0.0350) | Time(s) 42.6866 | comp 0.23 | acc 0.5000 | val_acc 0.4740 | test_acc 0.4530\n",
      "Epoch 00006 | Loss (L: 1.3011, C: 0.0350) | Time(s) 43.0039 | comp 0.24 | acc 0.5167 | val_acc 0.4220 | test_acc 0.4250\n",
      "Epoch 00007 | Loss (L: 1.7042, C: 0.0358) | Time(s) 43.2630 | comp 0.24 | acc 0.6667 | val_acc 0.4620 | test_acc 0.4660\n",
      "Deadheaded 0 ops. Remaining: 168\n",
      "0: ['sum_gat_linear', 'mean_gat_linear', 'max_gat_linear', 'mlp_gat_linear', 'sum_cos_linear', 'mean_cos_linear', 'max_cos_linear', 'mlp_cos_linear', 'sum_const_linear', 'mean_const_linear', 'max_const_linear', 'mlp_const_linear', 'sum_gatsym_linear', 'mean_gatsym_linear', 'max_gatsym_linear', 'mlp_gatsym_linear', 'sum_linear_linear', 'mean_linear_linear', 'max_linear_linear', 'mlp_linear_linear', 'sum_generalizedlinear_linear', 'mean_generalizedlinear_linear', 'max_generalizedlinear_linear', 'mlp_generalizedlinear_linear', 'sum_gcn_linear', 'mean_gcn_linear', 'max_gcn_linear', 'mlp_gcn_linear', 'sum_gat_tanh', 'mean_gat_tanh', 'max_gat_tanh', 'mlp_gat_tanh', 'sum_cos_tanh', 'mean_cos_tanh', 'max_cos_tanh', 'mlp_cos_tanh', 'sum_const_tanh', 'mean_const_tanh', 'max_const_tanh', 'mlp_const_tanh', 'sum_gatsym_tanh', 'mean_gatsym_tanh', 'max_gatsym_tanh', 'mlp_gatsym_tanh', 'sum_linear_tanh', 'mean_linear_tanh', 'max_linear_tanh', 'mlp_linear_tanh', 'sum_generalizedlinear_tanh', 'mean_generalizedlinear_tanh', 'max_generalizedlinear_tanh', 'mlp_generalizedlinear_tanh', 'sum_gcn_tanh', 'mean_gcn_tanh', 'max_gcn_tanh', 'mlp_gcn_tanh', 'sum_gat_relu', 'mean_gat_relu', 'max_gat_relu', 'mlp_gat_relu', 'sum_cos_relu', 'mean_cos_relu', 'max_cos_relu', 'mlp_cos_relu', 'sum_const_relu', 'mean_const_relu', 'max_const_relu', 'mlp_const_relu', 'sum_gatsym_relu', 'mean_gatsym_relu', 'max_gatsym_relu', 'mlp_gatsym_relu', 'sum_linear_relu', 'mean_linear_relu', 'max_linear_relu', 'mlp_linear_relu', 'sum_generalizedlinear_relu', 'mean_generalizedlinear_relu', 'max_generalizedlinear_relu', 'mlp_generalizedlinear_relu', 'sum_gcn_relu', 'mean_gcn_relu', 'max_gcn_relu', 'mlp_gcn_relu']\n",
      "1: ['sum_gat_linear', 'mean_gat_linear', 'max_gat_linear', 'mlp_gat_linear', 'sum_cos_linear', 'mean_cos_linear', 'max_cos_linear', 'mlp_cos_linear', 'sum_const_linear', 'mean_const_linear', 'max_const_linear', 'mlp_const_linear', 'sum_gatsym_linear', 'mean_gatsym_linear', 'max_gatsym_linear', 'mlp_gatsym_linear', 'sum_linear_linear', 'mean_linear_linear', 'max_linear_linear', 'mlp_linear_linear', 'sum_generalizedlinear_linear', 'mean_generalizedlinear_linear', 'max_generalizedlinear_linear', 'mlp_generalizedlinear_linear', 'sum_gcn_linear', 'mean_gcn_linear', 'max_gcn_linear', 'mlp_gcn_linear', 'sum_gat_tanh', 'mean_gat_tanh', 'max_gat_tanh', 'mlp_gat_tanh', 'sum_cos_tanh', 'mean_cos_tanh', 'max_cos_tanh', 'mlp_cos_tanh', 'sum_const_tanh', 'mean_const_tanh', 'max_const_tanh', 'mlp_const_tanh', 'sum_gatsym_tanh', 'mean_gatsym_tanh', 'max_gatsym_tanh', 'mlp_gatsym_tanh', 'sum_linear_tanh', 'mean_linear_tanh', 'max_linear_tanh', 'mlp_linear_tanh', 'sum_generalizedlinear_tanh', 'mean_generalizedlinear_tanh', 'max_generalizedlinear_tanh', 'mlp_generalizedlinear_tanh', 'sum_gcn_tanh', 'mean_gcn_tanh', 'max_gcn_tanh', 'mlp_gcn_tanh', 'sum_gat_relu', 'mean_gat_relu', 'max_gat_relu', 'mlp_gat_relu', 'sum_cos_relu', 'mean_cos_relu', 'max_cos_relu', 'mlp_cos_relu', 'sum_const_relu', 'mean_const_relu', 'max_const_relu', 'mlp_const_relu', 'sum_gatsym_relu', 'mean_gatsym_relu', 'max_gatsym_relu', 'mlp_gatsym_relu', 'sum_linear_relu', 'mean_linear_relu', 'max_linear_relu', 'mlp_linear_relu', 'sum_generalizedlinear_relu', 'mean_generalizedlinear_relu', 'max_generalizedlinear_relu', 'mlp_generalizedlinear_relu', 'sum_gcn_relu', 'mean_gcn_relu', 'max_gcn_relu', 'mlp_gcn_relu']\n",
      "Epoch 00008 | Loss (L: 1.3814, C: 0.0358) | Time(s) 43.4734 | comp 0.23 | acc 0.6000 | val_acc 0.5540 | test_acc 0.5720\n",
      "Epoch 00009 | Loss (L: 1.0886, C: 0.0350) | Time(s) 43.6444 | comp 0.23 | acc 0.5167 | val_acc 0.5200 | test_acc 0.5480\n",
      "Epoch 00010 | Loss (L: 1.1274, C: 0.0350) | Time(s) 43.7899 | comp 0.23 | acc 0.7500 | val_acc 0.5620 | test_acc 0.5640\n",
      "Epoch 00011 | Loss (L: 1.0834, C: 0.0339) | Time(s) 43.9079 | comp 0.23 | acc 0.7833 | val_acc 0.5420 | test_acc 0.5610\n",
      "Epoch 00012 | Loss (L: 0.9859, C: 0.0332) | Time(s) 44.0141 | comp 0.23 | acc 0.7833 | val_acc 0.5620 | test_acc 0.5780\n",
      "Epoch 00013 | Loss (L: 1.0199, C: 0.0332) | Time(s) 44.1092 | comp 0.22 | acc 0.8000 | val_acc 0.5780 | test_acc 0.5750\n",
      "Epoch 00014 | Loss (L: 1.0653, C: 0.0328) | Time(s) 44.1909 | comp 0.23 | acc 0.7500 | val_acc 0.4960 | test_acc 0.4950\n",
      "Epoch 00015 | Loss (L: 1.0896, C: 0.0336) | Time(s) 44.2630 | comp 0.23 | acc 0.9000 | val_acc 0.6620 | test_acc 0.6250\n",
      "Deadheaded 124 ops. Remaining: 44\n",
      "0: ['sum_gat_linear', 'sum_linear_linear', 'sum_generalizedlinear_linear', 'max_generalizedlinear_linear', 'sum_gcn_linear', 'sum_gat_tanh', 'max_gat_tanh', 'sum_cos_tanh', 'sum_const_tanh', 'sum_gatsym_tanh', 'mlp_linear_tanh', 'mlp_generalizedlinear_tanh', 'mean_gcn_tanh', 'sum_gat_relu']\n",
      "1: ['mlp_gat_linear', 'sum_cos_linear', 'mean_cos_linear', 'max_cos_linear', 'mlp_const_linear', 'mean_gatsym_linear', 'max_linear_linear', 'mlp_linear_linear', 'mean_generalizedlinear_linear', 'max_gcn_linear', 'sum_gat_tanh', 'mean_gat_tanh', 'mlp_cos_tanh', 'sum_const_tanh', 'mlp_const_tanh', 'sum_linear_tanh', 'max_linear_tanh', 'mlp_linear_tanh', 'sum_generalizedlinear_tanh', 'mean_generalizedlinear_tanh', 'sum_gcn_tanh', 'sum_gat_relu', 'mean_cos_relu', 'max_cos_relu', 'mean_const_relu', 'mean_gatsym_relu', 'max_gatsym_relu', 'sum_linear_relu', 'max_generalizedlinear_relu', 'mlp_generalizedlinear_relu']\n",
      "Epoch 00016 | Loss (L: 0.9376, C: 0.0343) | Time(s) 42.3580 | comp 0.26 | acc 0.9000 | val_acc 0.6640 | test_acc 0.6530\n",
      "Epoch 00017 | Loss (L: 0.9178, C: 0.0362) | Time(s) 40.5578 | comp 0.26 | acc 0.8500 | val_acc 0.6600 | test_acc 0.6550\n",
      "Epoch 00018 | Loss (L: 0.8121, C: 0.0357) | Time(s) 38.9381 | comp 0.27 | acc 0.8667 | val_acc 0.6620 | test_acc 0.6660\n",
      "Epoch 00019 | Loss (L: 0.8467, C: 0.0376) | Time(s) 37.4874 | comp 0.27 | acc 0.9000 | val_acc 0.6980 | test_acc 0.6950\n",
      "Epoch 00020 | Loss (L: 0.8523, C: 0.0374) | Time(s) 36.1831 | comp 0.28 | acc 0.8667 | val_acc 0.6100 | test_acc 0.6000\n",
      "Epoch 00021 | Loss (L: 0.9637, C: 0.0381) | Time(s) 35.0058 | comp 0.29 | acc 0.8667 | val_acc 0.6140 | test_acc 0.6070\n",
      "Epoch 00022 | Loss (L: 0.8858, C: 0.0396) | Time(s) 33.9373 | comp 0.29 | acc 0.9333 | val_acc 0.7300 | test_acc 0.7150\n",
      "Epoch 00023 | Loss (L: 0.7649, C: 0.0396) | Time(s) 32.9630 | comp 0.29 | acc 0.9333 | val_acc 0.7340 | test_acc 0.7180\n",
      "Deadheaded 4 ops. Remaining: 40\n",
      "0: ['sum_gat_linear', 'sum_generalizedlinear_linear', 'max_generalizedlinear_linear', 'sum_gcn_linear', 'sum_gat_tanh', 'max_gat_tanh', 'sum_cos_tanh', 'sum_const_tanh', 'sum_gatsym_tanh', 'mlp_linear_tanh', 'mlp_generalizedlinear_tanh', 'mean_gcn_tanh']\n",
      "1: ['mlp_gat_linear', 'sum_cos_linear', 'mean_cos_linear', 'max_cos_linear', 'mlp_const_linear', 'mean_gatsym_linear', 'max_linear_linear', 'mlp_linear_linear', 'mean_generalizedlinear_linear', 'max_gcn_linear', 'mean_gat_tanh', 'mlp_cos_tanh', 'mlp_const_tanh', 'sum_linear_tanh', 'max_linear_tanh', 'mlp_linear_tanh', 'sum_generalizedlinear_tanh', 'mean_generalizedlinear_tanh', 'sum_gcn_tanh', 'sum_gat_relu', 'mean_cos_relu', 'max_cos_relu', 'mean_const_relu', 'mean_gatsym_relu', 'max_gatsym_relu', 'sum_linear_relu', 'max_generalizedlinear_relu', 'mlp_generalizedlinear_relu']\n"
     ]
    }
   ],
   "source": [
    "t_start = time.time()\n",
    "best_perfs = []\n",
    "for i in range(3):\n",
    "    perf = manager.train()\n",
    "    best_perfs.append(perf)\n",
    "    manager.update_ops()\n",
    "    manager.head_num*=2\n",
    "    manager.epochs*=2\n",
    "    manager.build_model()\n",
    "    manager.model.print_ops()\n",
    "print(best_perfs)\n",
    "print(\"Tot Time:\",show_time(time.time()-t_start))"
   ]
  },
  {
   "cell_type": "code",
   "execution_count": null,
   "metadata": {},
   "outputs": [],
   "source": [
    "op_counts = [len([layer['op'].name for layer in multilayer.layers if not layer['pruner'].deadheaded]) for multilayer in manager.model.layers]"
   ]
  },
  {
   "cell_type": "code",
   "execution_count": null,
   "metadata": {},
   "outputs": [],
   "source": [
    "def get_random_ops(n_ops):\n",
    "    layers_ops = []\n",
    "    for layer in n_ops:\n",
    "        layer_ops = []\n",
    "        for i in range(layer):\n",
    "            att = random.choice(list(attents.keys()))\n",
    "            agg = random.choice(list(aggs.keys()))\n",
    "            act = random.choice(list(acts.keys()))\n",
    "            layer_ops.append({'att':att,'agg':agg,'act':act})\n",
    "        layers_ops.append(layer_ops)\n",
    "    return layers_ops"
   ]
  },
  {
   "cell_type": "code",
   "execution_count": null,
   "metadata": {},
   "outputs": [],
   "source": [
    "rand_perfs = []\n",
    "for i in range(50):\n",
    "    kwargs = {\n",
    "        'dataset':'cora',\n",
    "        'head_num':64,\n",
    "        'num_layers':2,\n",
    "        'prune':False,\n",
    "        'epochs':128,\n",
    "        'layers_ops':get_random_ops(op_counts)\n",
    "    }\n",
    "    print(\"0: \"+\"\\n1: \".join([\", \".join([\"_\".join(x.values()) for x in layer]) for layer in kwargs['layers_ops']]))\n",
    "    manager = CitationGNNManager(kwargs)\n",
    "    perf = manager.train()\n",
    "    rand_perfs.append(perf)\n",
    "print(max(rand_perfs),np.mean(rand_perfs))"
   ]
  },
  {
   "cell_type": "code",
   "execution_count": null,
   "metadata": {},
   "outputs": [],
   "source": []
  }
 ],
 "metadata": {
  "kernelspec": {
   "display_name": "Python 3",
   "language": "python",
   "name": "python3"
  },
  "language_info": {
   "codemirror_mode": {
    "name": "ipython",
    "version": 3
   },
   "file_extension": ".py",
   "mimetype": "text/x-python",
   "name": "python",
   "nbconvert_exporter": "python",
   "pygments_lexer": "ipython3",
   "version": "3.6.9"
  },
  "toc": {
   "base_numbering": 1,
   "nav_menu": {},
   "number_sections": true,
   "sideBar": true,
   "skip_h1_title": false,
   "title_cell": "Table of Contents",
   "title_sidebar": "Contents",
   "toc_cell": false,
   "toc_position": {},
   "toc_section_display": true,
   "toc_window_display": false
  }
 },
 "nbformat": 4,
 "nbformat_minor": 2
}
